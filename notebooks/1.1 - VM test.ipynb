{
 "cells": [
  {
   "cell_type": "markdown",
   "metadata": {},
   "source": [
    "# 1.1 - Testing your virtual environment\n",
    "\n",
    "Run the following cells to make sure you can import all the libraries. If you get an error on any of the cells, something went wrong with your installation. Follow the steps to remove your VM, and try the installation again. Once everything is working, save this notebooks and submit your changes through Github."
   ]
  },
  {
   "cell_type": "code",
   "execution_count": null,
   "metadata": {
    "collapsed": true
   },
   "outputs": [],
   "source": [
    "print(\"hello world\")"
   ]
  },
  {
   "cell_type": "code",
   "execution_count": null,
   "metadata": {},
   "outputs": [],
   "source": [
    "import keras\n",
    "print(\"keras successfully imported\")\n",
    "import theano\n",
    "print(\"theano successfully imported\")\n",
    "import tensorflow\n",
    "print(\"tensorflow successfully imported\")\n",
    "import sklearn\n",
    "print(\"sklearn successfully imported\")\n",
    "import seaborn\n",
    "print(\"seaborn successfully imported\")\n",
    "import nltk\n",
    "print(\"nltk successfully imported\")\n",
    "import jieba\n",
    "print(\"jieba successfully imported\")\n",
    "from bs4 import BeautifulSoup\n",
    "print(\"beautiful soup successfully imported\")"
   ]
  },
  {
   "cell_type": "code",
   "execution_count": null,
   "metadata": {
    "collapsed": true
   },
   "outputs": [],
   "source": [
    "print(\"uni:\", \"ef2536")"
   ]
  }
 ],
 "metadata": {
  "anaconda-cloud": {},
  "kernelspec": {
   "display_name": "Python 3",
   "language": "python",
   "name": "python3"
  },
  "language_info": {
   "codemirror_mode": {
    "name": "ipython",
    "version": 3
   },
   "file_extension": ".py",
   "mimetype": "text/x-python",
   "name": "python",
   "nbconvert_exporter": "python",
   "pygments_lexer": "ipython3",
   "version": "3.6.1"
  }
 },
 "nbformat": 4,
 "nbformat_minor": 1
}
